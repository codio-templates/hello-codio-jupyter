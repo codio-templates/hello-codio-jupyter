{
 "cells": [
  {
   "cell_type": "markdown",
   "metadata": {},
   "source": [
    "# Code Visualizer\n",
    "\n",
    "Codio offers the ability to integrate a code visualizer when creating content in the Guide. This cannot be done with a Jupyter notebook. However, you can insert a link that will take you to the code visualizer website, and pre-populate the visualizer with the code you want.\n",
    "\n",
    "## The Code\n",
    "\n",
    "Add a cell that is pre-populated with code."
   ]
  },
  {
   "cell_type": "code",
   "execution_count": null,
   "metadata": {},
   "outputs": [],
   "source": [
    "for i in range(10):\n",
    "    for j in range(i + 1):\n",
    "        print(\"*\", end=\"\")\n",
    "    print(\"\\n\")"
   ]
  },
  {
   "cell_type": "markdown",
   "metadata": {},
   "source": [
    "## The Link\n",
    "\n",
    "Add a link to the visualizer. The link below will open a code visualizer with the nested loop. Students can step through the program to help them understand how the code works.\n",
    "\n",
    "[Code Visualizer](http://pythontutor.com/visualize.html#code=for%20i%20in%20range%2810%29%3A%0A%20%20%20%20for%20j%20in%20range%28i%20%2B%201%29%3A%0A%20%20%20%20%20%20%20%20print%28%22*%22,%20end%3D%22%22%29%0A%20%20%20%20print%28%22%5Cn%22%29&cumulative=false&curInstr=0&heapPrimitives=nevernest&mode=display&origin=opt-frontend.js&py=3&rawInputLstJSON=%5B%5D&textReferences=false)\n",
    "\n",
    "## Creating the Visualizer\n",
    "\n",
    "Here are the steps to add a code visualizer to your notebook.\n",
    "\n",
    "### Python Tutor\n",
    "\n",
    "[Python Tutor](http://pythontutor.com/visualize.html#mode=edit) is the website with the visualizer. Despite it's name, Python Tutor works with [Java](http://pythontutor.com/java.html), [C](http://pythontutor.com/c.html), [C++](http://pythontutor.com/cpp.html), [JavaScript](http://pythontutor.com/javascript.html), and [Ruby](http://pythontutor.com/ruby.html).\n",
    "\n",
    "### Enter the Code\n",
    "\n",
    "![Visualizer Code](.guides/img/visualizer-code.png)\n",
    "\n",
    "### Start the Visualizer\n",
    "\n",
    "![Visualizer Code](.guides/img/visualizer-button.png)\n",
    "\n",
    "### Step Through the Code\n",
    "\n",
    "![Visualizer Code](.guides/img/visualizer-next.png)"
   ]
  },
  {
   "cell_type": "code",
   "execution_count": null,
   "metadata": {},
   "outputs": [],
   "source": []
  }
 ],
 "metadata": {
  "kernelspec": {
   "display_name": "Python 3",
   "language": "python",
   "name": "python3"
  },
  "language_info": {
   "codemirror_mode": {
    "name": "ipython",
    "version": 3
   },
   "file_extension": ".py",
   "mimetype": "text/x-python",
   "name": "python",
   "nbconvert_exporter": "python",
   "pygments_lexer": "ipython3",
   "version": "3.4.3"
  }
 },
 "nbformat": 4,
 "nbformat_minor": 2
}
