{
 "cells": [
  {
   "cell_type": "markdown",
   "metadata": {},
   "source": [
    "# Code Visualizer\n",
    "\n",
    "Codio offers the ability to integrate a code visualizer when creating content in the Guide. This cannot be done with a Jupyter notebook. However, you can insert a link that will take you to the code visualizer website, and pre-populate the visualizer with the code you want.\n",
    "\n",
    "## The Code\n",
    "\n",
    "Add a cell that is pre-populated with code."
   ]
  },
  {
   "cell_type": "code",
   "execution_count": 1,
   "metadata": {},
   "outputs": [
    {
     "name": "stdout",
     "output_type": "stream",
     "text": [
      "*\n",
      "\n",
      "**\n",
      "\n",
      "***\n",
      "\n",
      "****\n",
      "\n",
      "*****\n",
      "\n",
      "******\n",
      "\n",
      "*******\n",
      "\n",
      "********\n",
      "\n",
      "*********\n",
      "\n",
      "**********\n",
      "\n"
     ]
    }
   ],
   "source": [
    "for i in range(10):\n",
    "    for j in range(i + 1):\n",
    "        print(\"*\", end=\"\")\n",
    "    print(\"\\n\")"
   ]
  },
  {
   "cell_type": "markdown",
   "metadata": {},
   "source": [
    "## The Link\n",
    "\n",
    "Add a link to the visualizer. The link below will open a code visualizer with the nested loop. Students can step through the program to help them understand how the code works.\n",
    "\n",
    "[Code Visualizer](http://pythontutor.com/visualize.html#code=for%20i%20in%20range%2810%29%3A%0A%20%20%20%20for%20j%20in%20range%28i%20%2B%201%29%3A%0A%20%20%20%20%20%20%20%20print%28%22*%22,%20end%3D%22%22%29%0A%20%20%20%20print%28%22%5Cn%22%29&cumulative=false&curInstr=0&heapPrimitives=nevernest&mode=display&origin=opt-frontend.js&py=3&rawInputLstJSON=%5B%5D&textReferences=false)\n",
    "\n",
    "## Creating the Visualizer\n",
    "\n",
    "Here are the steps to add a code visualizer to your notebook.\n",
    "\n",
    "### Python Tutor\n",
    "\n",
    "[Python Tutor](http://pythontutor.com/visualize.html#mode=edit) is the website with the visualizer. Despite it's name, Python Tutor works with [Java](http://pythontutor.com/java.html), [C](http://pythontutor.com/c.html), [C++](http://pythontutor.com/cpp.html), [JavaScript](http://pythontutor.com/javascript.html), and [Ruby](http://pythontutor.com/ruby.html).\n",
    "\n",
    "### Enter the Code\n",
    "\n",
    "Copy and paste the code from the Jupyter cell into the editor for the code visualizer.\n",
    "\n",
    "![Visualizer Code](img/visualizer-code.png)\n",
    "\n",
    "### Start the Visualizer\n",
    "\n",
    "Click the button `Visualize Execution` to start the code visualizer.\n",
    "\n",
    "![Visualizer Code](img/visualizer-button.png)\n",
    "\n",
    "### Step Through the Code\n",
    "\n",
    "Click the `Next` button to step through the code one line at a time. Variable values and output will appear in the box to the right.\n",
    "\n",
    "![Visualizer Code](img/visualizer-next.png)"
   ]
  }
 ],
 "metadata": {
  "kernelspec": {
   "display_name": "Python 3",
   "language": "python",
   "name": "python3"
  },
  "language_info": {
   "codemirror_mode": {
    "name": "ipython",
    "version": 3
   },
   "file_extension": ".py",
   "mimetype": "text/x-python",
   "name": "python",
   "nbconvert_exporter": "python",
   "pygments_lexer": "ipython3",
   "version": "3.4.3"
  }
 },
 "nbformat": 4,
 "nbformat_minor": 2
}
