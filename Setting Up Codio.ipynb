{
 "cells": [
  {
   "cell_type": "markdown",
   "metadata": {},
   "source": [
    "# Setting Up Codio\n",
    "\n",
    "## Stack\n",
    "\n",
    "### Step 1 - Select the Stack\n",
    "\n",
    "When starting your project, you need to select a stack that is configured for Jupyter. Since Jupyter is not among the most commonly used stacks, it is not shown on the project creation page. Click on the button that says, `Click here` in blue for more options.\n",
    "\n",
    "<img src=\"img/select-stack.png\" />\n",
    "\n",
    "### Step 2 - See More Options\n",
    "\n",
    "Codio offers several ways to create a project. Remain on the first option `Empty with Stack`. Click the `Browse` button to see all of the available stacks.\n",
    "\n",
    "<img src=\"img/browse-stacks.png\" />\n",
    "\n",
    "### Step 3 - Search for Jupyter\n",
    "\n",
    "In the search box, type `jupyter` to see all of the Jupyter stacks. Be sure to be searching the `Certified` stacks. There are two options. Use the stack labeled `Jupyter with nbgrader support` if you want to have auto-graded assignments.\n",
    "\n",
    "<img src=\"img/jupyter-stacks.png\" />\n",
    "\n",
    "Codio will now create a blank project based on Jupyter with nbgrader.\n",
    "\n",
    "## Read Me\n",
    "\n",
    "Codio creates a generic `README.md` file with every project. This file is loaded the project opens. New users of Codio might benefit from some guidance on how to open their Jupyter notebook. Editing `README.md` can help guide students on how to access their work. Click on the pencil icon on the far-right side of the `README.md` file.\n",
    "\n",
    "<img src=\"img/markdown-buttons.png\" />\n",
    "\n",
    "## Starting the Server & Seeing the Output\n",
    "\n",
    "### Step 1 - Open the Configuration File\n",
    "\n",
    "Students need to start the Jupyter server and then open the server to see their work. Codio offers some buttons that can be programmed to do this. In a new project, click the `Configure` button. It has a blue rocketship as an icon.\n",
    "\n",
    "<img src=\"img/configure-button.png\" />\n",
    "\n",
    "This opens a JSON file that controls two buttons in the Codio menu bar. The `commands` section (on top) will be the button that starts the Jupyter server, while the `preview` section (on the bottom) will open the Jupyter notebooks.\n",
    "\n",
    "<img src=\"img/config-json.png\" />\n",
    "\n",
    "### Step 2 - Edit the Configuration File\n",
    "\n",
    "The string to the left of the `:` is the text that appears in the button. The string to the right of the `:` is the action the button performs. Edit the JSON file to look like the image below. **Note**, by default Jupyter starts the server on port 8888. Codio, on the other hand, defaults to port 3000. Give the Jupyter server the command to change to port 3000. The extra options for previewing can be erased.\n",
    "\n",
    "<img src=\"img/notebook-config-json.png\" />\n",
    "\n",
    "### Step 3 - Open Jupyter Notebook\n",
    "\n",
    "After editing the configuration file, you should see a button in the menu bar that look like this:\n",
    "\n",
    "<img src=\"img/show-notebooks.png\" />\n",
    "\n",
    "Click the button to see The first time you run this, there should be the `README.md` file and nothing else. Click `New` to create a new Jupyter notebook, or click `Upload` to upload pre-existing notebooks to Codio.\n",
    "\n",
    "<img src=\"img/empty-jupyter.png\" /> \n",
    "\n"
   ]
  }
 ],
 "metadata": {
  "kernelspec": {
   "display_name": "Python 3",
   "language": "python",
   "name": "python3"
  },
  "language_info": {
   "codemirror_mode": {
    "name": "ipython",
    "version": 3
   },
   "file_extension": ".py",
   "mimetype": "text/x-python",
   "name": "python",
   "nbconvert_exporter": "python",
   "pygments_lexer": "ipython3",
   "version": "3.4.3"
  }
 },
 "nbformat": 4,
 "nbformat_minor": 2
}
